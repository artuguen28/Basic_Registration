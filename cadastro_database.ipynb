{
 "cells": [
  {
   "cell_type": "markdown",
   "source": [
    "#### Bridge Python - MySQl"
   ],
   "metadata": {}
  },
  {
   "cell_type": "markdown",
   "source": [
    "### Importing libraries"
   ],
   "metadata": {}
  },
  {
   "cell_type": "code",
   "execution_count": 10,
   "source": [
    "import pandas as pd\r\n",
    "import mysql.connector\r\n",
    "from mysql.connector import Error\r\n",
    "import sqlalchemy"
   ],
   "outputs": [],
   "metadata": {}
  },
  {
   "cell_type": "markdown",
   "source": [
    "### Creating a table in MySQL \"cadastro\""
   ],
   "metadata": {}
  },
  {
   "cell_type": "code",
   "execution_count": 3,
   "source": [
    "try:\r\n",
    "    con = mysql.connector.connect(host='localhost', database='cadastro', user='root', password='')\r\n",
    "    create_sql_table = \"\"\"CREATE TABLE info (\r\n",
    "        id int NOT NULL auto_increment,\r\n",
    "        firstname VARCHAR(20) NOT NULL,\r\n",
    "        lastname VARCHAR(20) NOT NULL,\r\n",
    "        gender enum('M','F'),\r\n",
    "        grade int(2) NOT NULL,\r\n",
    "        dob date,\r\n",
    "        primary key (id)) default charset = utf8; \"\"\"\r\n",
    "\r\n",
    "    cursor = con.cursor()\r\n",
    "    cursor.execute(create_sql_table)\r\n",
    "    print(\"Your table was created successfully!\")\r\n",
    "except mysql.connector.Error as erro:\r\n",
    "    print(\"Failed to create table: {}\".format(erro))\r\n",
    "finally:\r\n",
    "    if con.is_connected():\r\n",
    "        cursor.close()\r\n",
    "        con.close()\r\n",
    "        print(\"Connection to MySQL finished!.\")\r\n"
   ],
   "outputs": [
    {
     "output_type": "stream",
     "name": "stdout",
     "text": [
      "Your table was created successfully!\n",
      "Connection to MySQL finished!.\n"
     ]
    }
   ],
   "metadata": {}
  },
  {
   "cell_type": "markdown",
   "source": [
    "### Importing data from the MySQL table \"cadastro\""
   ],
   "metadata": {}
  },
  {
   "cell_type": "code",
   "execution_count": null,
   "source": [
    "try:\r\n",
    "    con = mysql.connector.connect(host='localhost', database='cadastro', user='root', password='')\r\n",
    "    consulta_sql = \"select * from \"\r\n",
    "    cursor = con.cursor()\r\n",
    "    cursor.execute(consulta_sql)\r\n",
    "    linhas = cursor.fetchall()\r\n",
    "    print(\"Numero total de registros retornados: \", cursor.rowcount)\r\n",
    "    for linha in linhas:\r\n",
    "        print(\"Id:\", linha[0])\r\n",
    "        print(\"Name:\", linha[1])\r\n",
    "        print(\"Birthday:\", linha[2])\r\n",
    "        print(\"Gender:\", linha[3])\r\n",
    "        print(\"Weight:\", linha[4])\r\n",
    "        print(\"Height:\", linha[5])\r\n",
    "        print(\"Nationality:\", linha[6])\r\n",
    "        print(\"City:\", linha[7], \"\\n\")\r\n",
    "except Error as e:\r\n",
    "    print(\"Erro ao acessar tabela MySQL\", e)\r\n",
    "finally:\r\n",
    "    if con.is_connected():\r\n",
    "        con.close()\r\n",
    "        cursor.close()\r\n",
    "        print(\"Conexão ao MySQL encerrada\")\r\n"
   ],
   "outputs": [],
   "metadata": {}
  },
  {
   "cell_type": "markdown",
   "source": [
    "### Updating the MySQL table"
   ],
   "metadata": {}
  },
  {
   "cell_type": "code",
   "execution_count": 8,
   "source": [
    "while True:\r\n",
    "    fname = str(input(\"Type your first name: \"))\r\n",
    "    lname = str(input(\"Type your last name: \"))\r\n",
    "    gender = str(input(\"Type your gender [M/F]: \")).strip().upper()\r\n",
    "    grade = int(input(\"Type your grade [1,2,3]: \"))\r\n",
    "    dob = str(input(\"Type your birthday date [y/m/d]: \"))\r\n",
    "\r\n",
    "    try:\r\n",
    "        con = mysql.connector.connect(host='localhost', database='cadastro', user='root', password='')\r\n",
    "        insert_data = f\"\"\"INSERT INTO info values (default, '{fname}','{lname}','{gender}','{grade}','{dob}');\r\n",
    "        \"\"\"\r\n",
    "        cursor = con.cursor()\r\n",
    "        cursor.execute(insert_data)\r\n",
    "        con.commit()\r\n",
    "        print(cursor.rowcount, \"Table updated successfully!\")\r\n",
    "        cursor.close()\r\n",
    "\r\n",
    "    except Error as erro:\r\n",
    "        print(\"Failed to updade the table: {}\".format(erro))\r\n",
    "\r\n",
    "    finally:\r\n",
    "        if con.is_connected():\r\n",
    "            cursor.close()\r\n",
    "            con.close()\r\n",
    "            print(\"Connection to MySQL finished!.\")\r\n",
    "\r\n",
    "        cont = str(input(\"Do you want to add more data? [Y/N]\")).upper()\r\n",
    "        if cont == 'Y':\r\n",
    "            continue\r\n",
    "        if cont == 'N':\r\n",
    "            break\r\n"
   ],
   "outputs": [
    {
     "output_type": "stream",
     "name": "stdout",
     "text": [
      "1 Table updated successfully!\n",
      "Connection to MySQL finished!.\n",
      "1 Table updated successfully!\n",
      "Connection to MySQL finished!.\n"
     ]
    }
   ],
   "metadata": {}
  },
  {
   "cell_type": "markdown",
   "source": [
    "### Reading the MySQL table into a pandas DF"
   ],
   "metadata": {}
  },
  {
   "cell_type": "code",
   "execution_count": 12,
   "source": [
    "engine = sqlalchemy.create_engine('mysql+pymysql://root:@localhost:3306/cadastro')"
   ],
   "outputs": [],
   "metadata": {}
  },
  {
   "cell_type": "code",
   "execution_count": 14,
   "source": [
    "df = pd.read_sql_table(\"info\", engine, columns=['firstname','lastname','gender','grade','dob'])"
   ],
   "outputs": [
    {
     "output_type": "execute_result",
     "data": {
      "text/html": [
       "<div>\n",
       "<style scoped>\n",
       "    .dataframe tbody tr th:only-of-type {\n",
       "        vertical-align: middle;\n",
       "    }\n",
       "\n",
       "    .dataframe tbody tr th {\n",
       "        vertical-align: top;\n",
       "    }\n",
       "\n",
       "    .dataframe thead th {\n",
       "        text-align: right;\n",
       "    }\n",
       "</style>\n",
       "<table border=\"1\" class=\"dataframe\">\n",
       "  <thead>\n",
       "    <tr style=\"text-align: right;\">\n",
       "      <th></th>\n",
       "      <th>firstname</th>\n",
       "      <th>lastname</th>\n",
       "      <th>gender</th>\n",
       "      <th>grade</th>\n",
       "      <th>dob</th>\n",
       "    </tr>\n",
       "  </thead>\n",
       "  <tbody>\n",
       "    <tr>\n",
       "      <th>0</th>\n",
       "      <td>Arthur</td>\n",
       "      <td>Uguen</td>\n",
       "      <td>M</td>\n",
       "      <td>3</td>\n",
       "      <td>2003-05-28</td>\n",
       "    </tr>\n",
       "    <tr>\n",
       "      <th>1</th>\n",
       "      <td>Katell</td>\n",
       "      <td>Uguen</td>\n",
       "      <td>F</td>\n",
       "      <td>2</td>\n",
       "      <td>1972-12-04</td>\n",
       "    </tr>\n",
       "    <tr>\n",
       "      <th>2</th>\n",
       "      <td>Manuela</td>\n",
       "      <td>Crepaldi</td>\n",
       "      <td>F</td>\n",
       "      <td>3</td>\n",
       "      <td>2005-07-12</td>\n",
       "    </tr>\n",
       "  </tbody>\n",
       "</table>\n",
       "</div>"
      ],
      "text/plain": [
       "  firstname  lastname gender  grade        dob\n",
       "0    Arthur     Uguen      M      3 2003-05-28\n",
       "1    Katell     Uguen      F      2 1972-12-04\n",
       "2   Manuela  Crepaldi      F      3 2005-07-12"
      ]
     },
     "metadata": {},
     "execution_count": 14
    }
   ],
   "metadata": {}
  },
  {
   "cell_type": "markdown",
   "source": [
    "### Add a .csv file into the MySQL table"
   ],
   "metadata": {}
  },
  {
   "cell_type": "code",
   "execution_count": 20,
   "source": [
    "df = pd.read_csv(\"CSV_test.csv\", sep=';')\r\n",
    "df"
   ],
   "outputs": [
    {
     "output_type": "execute_result",
     "data": {
      "text/html": [
       "<div>\n",
       "<style scoped>\n",
       "    .dataframe tbody tr th:only-of-type {\n",
       "        vertical-align: middle;\n",
       "    }\n",
       "\n",
       "    .dataframe tbody tr th {\n",
       "        vertical-align: top;\n",
       "    }\n",
       "\n",
       "    .dataframe thead th {\n",
       "        text-align: right;\n",
       "    }\n",
       "</style>\n",
       "<table border=\"1\" class=\"dataframe\">\n",
       "  <thead>\n",
       "    <tr style=\"text-align: right;\">\n",
       "      <th></th>\n",
       "      <th>firstname</th>\n",
       "      <th>lastname</th>\n",
       "      <th>gender</th>\n",
       "      <th>grade</th>\n",
       "      <th>dob</th>\n",
       "    </tr>\n",
       "  </thead>\n",
       "  <tbody>\n",
       "    <tr>\n",
       "      <th>0</th>\n",
       "      <td>Pedro</td>\n",
       "      <td>Silva</td>\n",
       "      <td>M</td>\n",
       "      <td>2</td>\n",
       "      <td>2004-05-13</td>\n",
       "    </tr>\n",
       "    <tr>\n",
       "      <th>1</th>\n",
       "      <td>Paulo</td>\n",
       "      <td>Costa</td>\n",
       "      <td>M</td>\n",
       "      <td>1</td>\n",
       "      <td>2005-11-24</td>\n",
       "    </tr>\n",
       "    <tr>\n",
       "      <th>2</th>\n",
       "      <td>Cristina</td>\n",
       "      <td>Pereira</td>\n",
       "      <td>F</td>\n",
       "      <td>1</td>\n",
       "      <td>1994-05-14</td>\n",
       "    </tr>\n",
       "    <tr>\n",
       "      <th>3</th>\n",
       "      <td>Ana</td>\n",
       "      <td>Costa</td>\n",
       "      <td>F</td>\n",
       "      <td>3</td>\n",
       "      <td>1999-12-15</td>\n",
       "    </tr>\n",
       "  </tbody>\n",
       "</table>\n",
       "</div>"
      ],
      "text/plain": [
       "  firstname lastname gender  grade         dob\n",
       "0     Pedro    Silva      M      2  2004-05-13\n",
       "1     Paulo    Costa      M      1  2005-11-24\n",
       "2  Cristina  Pereira      F      1  1994-05-14\n",
       "3       Ana    Costa      F      3  1999-12-15"
      ]
     },
     "metadata": {},
     "execution_count": 20
    }
   ],
   "metadata": {}
  },
  {
   "cell_type": "code",
   "execution_count": null,
   "source": [
    "df.to_sql(\r\n",
    "    name=\"info\",\r\n",
    "    con=engine,\r\n",
    "    index=False,\r\n",
    "    if_exists=\"append\"\r\n",
    ")"
   ],
   "outputs": [],
   "metadata": {}
  }
 ],
 "metadata": {
  "orig_nbformat": 4,
  "language_info": {
   "name": "python",
   "version": "3.9.0",
   "mimetype": "text/x-python",
   "codemirror_mode": {
    "name": "ipython",
    "version": 3
   },
   "pygments_lexer": "ipython3",
   "nbconvert_exporter": "python",
   "file_extension": ".py"
  },
  "kernelspec": {
   "name": "python3",
   "display_name": "Python 3.9.0 64-bit"
  },
  "interpreter": {
   "hash": "0b4cd1dba37433b1e50c010185bc348f8249c88fc584b8900b63ec6ab96afba5"
  }
 },
 "nbformat": 4,
 "nbformat_minor": 2
}