{
 "cells": [
  {
   "cell_type": "markdown",
   "source": [
    "#### Bridge Python - MySQl"
   ],
   "metadata": {}
  },
  {
   "cell_type": "markdown",
   "source": [
    "### Importing libraries"
   ],
   "metadata": {}
  },
  {
   "cell_type": "code",
   "execution_count": 2,
   "source": [
    "import pandas\r\n",
    "import mysql.connector\r\n",
    "from mysql.connector import Error"
   ],
   "outputs": [],
   "metadata": {}
  },
  {
   "cell_type": "markdown",
   "source": [
    "### Creating a table in MySQL \"cadastro\""
   ],
   "metadata": {}
  },
  {
   "cell_type": "code",
   "execution_count": 3,
   "source": [
    "try:\r\n",
    "    con = mysql.connector.connect(host='localhost', database='cadastro', user='root', password='')\r\n",
    "    create_sql_table = \"\"\"CREATE TABLE info (\r\n",
    "        id int NOT NULL auto_increment,\r\n",
    "        firstname VARCHAR(20) NOT NULL,\r\n",
    "        lastname VARCHAR(20) NOT NULL,\r\n",
    "        gender enum('M','F'),\r\n",
    "        grade int(2) NOT NULL,\r\n",
    "        dob date,\r\n",
    "        primary key (id)) default charset = utf8; \"\"\"\r\n",
    "\r\n",
    "    cursor = con.cursor()\r\n",
    "    cursor.execute(create_sql_table)\r\n",
    "    print(\"Your table was created successfully!\")\r\n",
    "except mysql.connector.Error as erro:\r\n",
    "    print(\"Failed to create table: {}\".format(erro))\r\n",
    "finally:\r\n",
    "    if con.is_connected():\r\n",
    "        cursor.close()\r\n",
    "        con.close()\r\n",
    "        print(\"Connection to MySQL finished!.\")\r\n"
   ],
   "outputs": [
    {
     "output_type": "stream",
     "name": "stdout",
     "text": [
      "Your table was created successfully!\n",
      "Connection to MySQL finished!.\n"
     ]
    }
   ],
   "metadata": {}
  },
  {
   "cell_type": "markdown",
   "source": [
    "### Importing data from the MySQL table \"cadastro\""
   ],
   "metadata": {}
  },
  {
   "cell_type": "code",
   "execution_count": null,
   "source": [
    "try:\r\n",
    "    con = mysql.connector.connect(host='localhost', database='cadastro', user='root', password='')\r\n",
    "    consulta_sql = \"select * from \"\r\n",
    "    cursor = con.cursor()\r\n",
    "    cursor.execute(consulta_sql)\r\n",
    "    linhas = cursor.fetchall()\r\n",
    "    print(\"Numero total de registros retornados: \", cursor.rowcount)\r\n",
    "    for linha in linhas:\r\n",
    "        print(\"Id:\", linha[0])\r\n",
    "        print(\"Name:\", linha[1])\r\n",
    "        print(\"Birthday:\", linha[2])\r\n",
    "        print(\"Gender:\", linha[3])\r\n",
    "        print(\"Weight:\", linha[4])\r\n",
    "        print(\"Height:\", linha[5])\r\n",
    "        print(\"Nationality:\", linha[6])\r\n",
    "        print(\"City:\", linha[7], \"\\n\")\r\n",
    "except Error as e:\r\n",
    "    print(\"Erro ao acessar tabela MySQL\", e)\r\n",
    "finally:\r\n",
    "    if con.is_connected():\r\n",
    "        con.close()\r\n",
    "        cursor.close()\r\n",
    "        print(\"Conexão ao MySQL encerrada\")\r\n"
   ],
   "outputs": [],
   "metadata": {}
  },
  {
   "cell_type": "markdown",
   "source": [
    "### Updating the MySQL table"
   ],
   "metadata": {}
  },
  {
   "cell_type": "code",
   "execution_count": 8,
   "source": [
    "while True:\r\n",
    "    fname = str(input(\"Type your first name: \"))\r\n",
    "    lname = str(input(\"Type your last name: \"))\r\n",
    "    gender = str(input(\"Type your gender [M/F]: \")).strip().upper()\r\n",
    "    grade = int(input(\"Type your grade [1,2,3]: \"))\r\n",
    "    dob = str(input(\"Type your birthday date [y/m/d]: \"))\r\n",
    "\r\n",
    "    try:\r\n",
    "        con = mysql.connector.connect(host='localhost', database='cadastro', user='root', password='')\r\n",
    "        insert_data = f\"\"\"INSERT INTO info values (default, '{fname}','{lname}','{gender}','{grade}','{dob}');\r\n",
    "        \"\"\"\r\n",
    "        cursor = con.cursor()\r\n",
    "        cursor.execute(insert_data)\r\n",
    "        con.commit()\r\n",
    "        print(cursor.rowcount, \"Table updated successfully!\")\r\n",
    "        cursor.close()\r\n",
    "\r\n",
    "    except Error as erro:\r\n",
    "        print(\"Failed to updade the table: {}\".format(erro))\r\n",
    "\r\n",
    "    finally:\r\n",
    "        if con.is_connected():\r\n",
    "            cursor.close()\r\n",
    "            con.close()\r\n",
    "            print(\"Connection to MySQL finished!.\")\r\n",
    "\r\n",
    "        cont = str(input(\"Do you want to add more data? [Y/N]\")).upper()\r\n",
    "        if cont == 'Y':\r\n",
    "            continue\r\n",
    "        if cont == 'N':\r\n",
    "            break\r\n"
   ],
   "outputs": [
    {
     "output_type": "stream",
     "name": "stdout",
     "text": [
      "1 Table updated successfully!\n",
      "Connection to MySQL finished!.\n",
      "1 Table updated successfully!\n",
      "Connection to MySQL finished!.\n"
     ]
    }
   ],
   "metadata": {}
  }
 ],
 "metadata": {
  "orig_nbformat": 4,
  "language_info": {
   "name": "python",
   "version": "3.9.0",
   "mimetype": "text/x-python",
   "codemirror_mode": {
    "name": "ipython",
    "version": 3
   },
   "pygments_lexer": "ipython3",
   "nbconvert_exporter": "python",
   "file_extension": ".py"
  },
  "kernelspec": {
   "name": "python3",
   "display_name": "Python 3.9.0 64-bit"
  },
  "interpreter": {
   "hash": "0b4cd1dba37433b1e50c010185bc348f8249c88fc584b8900b63ec6ab96afba5"
  }
 },
 "nbformat": 4,
 "nbformat_minor": 2
}