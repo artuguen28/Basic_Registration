{
 "cells": [
  {
   "cell_type": "markdown",
   "source": [
    "#### Importing the libraries"
   ],
   "metadata": {}
  },
  {
   "cell_type": "code",
   "execution_count": null,
   "source": [
    "import pandas as pd \r\n",
    "import matplotlib.pyplot as plt\r\n",
    "import mysql.connector\r\n",
    "from mysql.connector import Error"
   ],
   "outputs": [],
   "metadata": {}
  },
  {
   "cell_type": "markdown",
   "source": [
    "#### Collecting data from multiple people"
   ],
   "metadata": {}
  },
  {
   "cell_type": "code",
   "execution_count": null,
   "source": [
    "data_dict = {\"Name\": [], \"Age\": [], \"Gender\": []}\r\n",
    "\r\n",
    "n = int(input(\"how many people do you want to register? \"))\r\n",
    "\r\n",
    "c = 0 # The number of times the registration loop will run\r\n",
    "\r\n",
    "while True:\r\n",
    "    name = str(input(f\"{c}) Name: \")).strip()\r\n",
    "    age = int(input(f\"{c}) Age: \"))\r\n",
    "    gender = str(input(f\"{c}) Gender: [M/F]\")).upper().strip()\r\n",
    "\r\n",
    "    # Adding the inputs on the dictionary \r\n",
    "    data_dict[\"Name\"].append(name)\r\n",
    "    data_dict[\"Age\"].append(age)\r\n",
    "    data_dict[\"Gender\"].append(gender)\r\n",
    "\r\n",
    "    c += 1\r\n",
    "\r\n",
    "    if c == n:\r\n",
    "        break\r\n",
    "\r\n",
    "\r\n",
    "df = pd.DataFrame(data_dict) \r\n",
    "\r\n"
   ],
   "outputs": [],
   "metadata": {}
  },
  {
   "cell_type": "markdown",
   "source": [
    "#### Importing data from MySQL using mysql.connector"
   ],
   "metadata": {}
  },
  {
   "cell_type": "code",
   "execution_count": 33,
   "source": [
    "con = mysql.connector.connect(host='localhost',database='cadastro',user='root',password='')"
   ],
   "outputs": [],
   "metadata": {}
  },
  {
   "cell_type": "markdown",
   "source": [
    "##### Creating a MySQL database in Python"
   ],
   "metadata": {}
  },
  {
   "cell_type": "code",
   "execution_count": null,
   "source": [
    "try:\r\n",
    "    criar_tabela_SQL = \"\"\"CREATE TABLE tbl_produtos (\r\n",
    "        IdProduto int(11) NOT NULL,\r\n",
    "        NomeProduto VARCHAR(70) NOT NULL,\r\n",
    "        Preco FLOAT NOT NULL,\r\n",
    "        Quantidade TINYINT NOT NULL,\r\n",
    "        PRIMARY KEY (IdProduto)) \"\"\"\r\n",
    "\r\n",
    "    cursor = con.cursor()\r\n",
    "    cursor.execute(criar_tabela_SQL)\r\n",
    "    print(\"Tabela de Produtos criada com sucesso!\")\r\n",
    "except mysql.connector.Error as erro:\r\n",
    "    print(\"Falha ao criar tabela de MySQL: {}\".format(erro))\r\n",
    "finally:\r\n",
    "    if con.is_connected():\r\n",
    "        cursor.close()\r\n",
    "        con.close()\r\n",
    "        print(\"Conexão ao MySQL finalizada.\")\r\n"
   ],
   "outputs": [],
   "metadata": {}
  },
  {
   "cell_type": "markdown",
   "source": [
    "##### Consulting data "
   ],
   "metadata": {}
  },
  {
   "cell_type": "code",
   "execution_count": null,
   "source": [
    "try:\r\n",
    "    consulta_sql = \"select * from gafanhotos\"\r\n",
    "    cursor = con.cursor()\r\n",
    "    cursor.execute(consulta_sql)\r\n",
    "    linhas = cursor.fetchall()\r\n",
    "    print(\"Numero total de registros retornados: \", cursor.rowcount)\r\n",
    "    for linha in linhas:\r\n",
    "        print(\"Id:\", linha[0])\r\n",
    "        print(\"Name:\", linha[1])\r\n",
    "        print(\"Birthday:\", linha[2])\r\n",
    "        print(\"Gender:\", linha[3])\r\n",
    "        print(\"Weight:\", linha[4])\r\n",
    "        print(\"Height:\", linha[5])\r\n",
    "        print(\"Nationality:\", linha[6])\r\n",
    "        print(\"City:\", linha[7], \"\\n\")\r\n",
    "except Error as e:\r\n",
    "    print(\"Erro ao acessar tabela MySQL\", e)\r\n",
    "finally:\r\n",
    "    if con.is_connected():\r\n",
    "        con.close()\r\n",
    "        cursor.close()\r\n",
    "        print(\"Conexão ao MySQL encerrada\")\r\n",
    "\r\n"
   ],
   "outputs": [],
   "metadata": {}
  },
  {
   "cell_type": "markdown",
   "source": [
    "##### Inserting data"
   ],
   "metadata": {}
  },
  {
   "cell_type": "code",
   "execution_count": 34,
   "source": [
    "nome = \"Mario\""
   ],
   "outputs": [],
   "metadata": {}
  },
  {
   "cell_type": "code",
   "execution_count": 35,
   "source": [
    "try:\r\n",
    "    inserir_dados = f\"\"\"INSERT INTO gafanhotos values\r\n",
    "    (default, \"{nome}\", \"1975-07-15\", \"M\", \"58.84\", \"1.70\", \"Portugal\", \"Manaus\")\"\"\"\r\n",
    "    cursor = con.cursor()\r\n",
    "    cursor.execute(inserir_dados)\r\n",
    "    con.commit()\r\n",
    "    print(cursor.rowcount, \"registros inseridos na tabela!\")\r\n",
    "    cursor.close()\r\n",
    "except Error as erro:\r\n",
    "    print(\"Falha ao inserir dados no MySQL: {}\".format(erro))\r\n",
    "finally:\r\n",
    "    if con.is_connected():\r\n",
    "        cursor.close()\r\n",
    "        con.close()\r\n",
    "        print(\"Conexão ao MySQL finalizada\")"
   ],
   "outputs": [
    {
     "output_type": "stream",
     "name": "stdout",
     "text": [
      "1 registros inseridos na tabela!\n",
      "Conexão ao MySQL finalizada\n"
     ]
    }
   ],
   "metadata": {}
  },
  {
   "cell_type": "code",
   "execution_count": null,
   "source": [
    "#Creating a DataFrame from a dict\r\n",
    "data = {'Names': ['Arthur', 'Manuela', 'Alexandre'], 'Age': [18, 16, 8]}\r\n",
    "\r\n",
    "#An index can also be created using arrays\r\n",
    "df1 = pd.DataFrame(data, index=['first', 'second', 'third'])\r\n",
    "\r\n",
    "#Creating a DataFrame from lists\r\n",
    "l1 = ['Jorge', 'Ronaldo', 'Mario', 'Carlos', 'John']\r\n",
    "l2 = [23, 53, 26, 63, 75]\r\n",
    "l3 = ['100', '80', '90', '89', '56']\r\n",
    "#Merge them using zip()\r\n",
    "list_tuples = list(zip(l1, l2, l3))\r\n",
    "\r\n",
    "# Converting lists of tuples into pandas DataFrame\r\n",
    "df2 = pd.DataFrame(list_tuples, columns=['Name', 'Age', 'Score'])\r\n",
    "\r\n",
    "print(df2.head(6))\r\n",
    "print('-='*12)\r\n",
    "print(df1.iloc[2])\r\n",
    "print('-='*12)\r\n",
    "print(df1.loc[df1['Age'] > 50])"
   ],
   "outputs": [],
   "metadata": {}
  },
  {
   "cell_type": "code",
   "execution_count": null,
   "source": [
    "df1 = pd.DataFrame([['a', 1], ['b', 2]],columns=['letter', 'number'])\r\n",
    "df2 = pd.DataFrame([['c', 3], ['d', 4]],columns=['letter', 'number'])\r\n",
    "df3 = pd.DataFrame([['c', 3, 'cat'], ['d', 4, 'dog']],columns=['letter', 'number', 'animal'])\r\n",
    "\r\n",
    "df3 = pd.concat([df1,df2])\r\n",
    "df3.head()\r\n"
   ],
   "outputs": [],
   "metadata": {}
  }
 ],
 "metadata": {
  "orig_nbformat": 4,
  "language_info": {
   "name": "python",
   "version": "3.9.0",
   "mimetype": "text/x-python",
   "codemirror_mode": {
    "name": "ipython",
    "version": 3
   },
   "pygments_lexer": "ipython3",
   "nbconvert_exporter": "python",
   "file_extension": ".py"
  },
  "kernelspec": {
   "name": "python3",
   "display_name": "Python 3.9.0 64-bit"
  },
  "interpreter": {
   "hash": "0b4cd1dba37433b1e50c010185bc348f8249c88fc584b8900b63ec6ab96afba5"
  }
 },
 "nbformat": 4,
 "nbformat_minor": 2
}